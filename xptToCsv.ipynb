{
 "cells": [
  {
   "cell_type": "code",
   "execution_count": 3,
   "metadata": {},
   "outputs": [
    {
     "name": "stdout",
     "output_type": "stream",
     "text": [
      "Converted ALQ_J.XPT to ALQ_J.csv\n",
      "Converted BMX_J.XPT to BMX_J.csv\n",
      "Converted BPQ_J.XPT to BPQ_J.csv\n",
      "Converted BPX_J.XPT to BPX_J.csv\n",
      "Converted DBQ_J.XPT to DBQ_J.csv\n",
      "Converted DEMO_J.XPT to DEMO_J.csv\n",
      "Converted DR1TOT_J.XPT to DR1TOT_J.csv\n",
      "Converted HSQ_J.XPT to HSQ_J.csv\n",
      "Converted SMQ_J.XPT to SMQ_J.csv\n",
      "Converted PAQ_J.XPT to PAQ_J.csv\n",
      "Converted DPQ_J.XPT to DPQ_J.csv\n",
      "Converted MCQ_J.XPT to MCQ_J.csv\n",
      "Converted DIQ_J.XPT to DIQ_J.csv\n",
      "Merged data saved to csv_2017_2018\\merged_2017_2018.csv\n"
     ]
    }
   ],
   "source": [
    "import pandas as pd\n",
    "import os\n",
    "\n",
    "# List of file names (without extensions)\n",
    "file_names = [\n",
    "    'ALQ_J', 'BMX_J', 'BPQ_J', 'BPX_J', 'DBQ_J', 'DEMO_J', 'DR1TOT_J', 'HSQ_J', 'SMQ_J', 'PAQ_J', 'DPQ_J', 'MCQ_J', 'DIQ_J'\n",
    "]\n",
    "\n",
    "# Define the directory paths (adjust if needed)\n",
    "input_dir = 'path_2017_2018'  # Replace with the path to your XPT files\n",
    "output_dir = 'csv_2017_2018'  # Replace with the path where you want to save CSV files\n",
    "\n",
    "# Create the output directory if it doesn't exist\n",
    "os.makedirs(output_dir, exist_ok=True)\n",
    "\n",
    "# Dictionary to store DataFrames\n",
    "dataframes = {}\n",
    "\n",
    "# Read each XPT file, convert to CSV, and store in the dictionary\n",
    "for file_name in file_names:\n",
    "    xpt_path = os.path.join(input_dir, f'{file_name}.XPT')\n",
    "    csv_path = os.path.join(output_dir, f'{file_name}.csv')\n",
    "\n",
    "    # Read the XPT file\n",
    "    df = pd.read_sas(xpt_path, format='xport')\n",
    "\n",
    "    # Save the DataFrame to a CSV file\n",
    "    df.to_csv(csv_path, index=False)\n",
    "\n",
    "    # Store the DataFrame in the dictionary\n",
    "    dataframes[file_name] = df\n",
    "\n",
    "    print(f'Converted {file_name}.XPT to {file_name}.csv')\n",
    "\n",
    "# Merge all DataFrames on the 'SEQN' feature\n",
    "merged_df = pd.DataFrame()\n",
    "\n",
    "for i, (name, df) in enumerate(dataframes.items()):\n",
    "    if i == 0:\n",
    "        merged_df = df\n",
    "    else:\n",
    "        merged_df = pd.merge(merged_df, df, on='SEQN', how='outer')\n",
    "\n",
    "# Save the merged DataFrame to a CSV file\n",
    "merged_csv_path = os.path.join(output_dir, 'merged_2017_2018.csv')\n",
    "merged_df.to_csv(merged_csv_path, index=False)\n",
    "\n",
    "print(f'Merged data saved to {merged_csv_path}')\n"
   ]
  },
  {
   "cell_type": "code",
   "execution_count": null,
   "metadata": {},
   "outputs": [],
   "source": []
  }
 ],
 "metadata": {
  "kernelspec": {
   "display_name": "Python 3",
   "language": "python",
   "name": "python3"
  },
  "language_info": {
   "codemirror_mode": {
    "name": "ipython",
    "version": 3
   },
   "file_extension": ".py",
   "mimetype": "text/x-python",
   "name": "python",
   "nbconvert_exporter": "python",
   "pygments_lexer": "ipython3",
   "version": "3.11.2"
  }
 },
 "nbformat": 4,
 "nbformat_minor": 2
}
